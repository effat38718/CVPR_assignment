{
  "nbformat": 4,
  "nbformat_minor": 0,
  "metadata": {
    "colab": {
      "name": "Assignment_1.ipynb",
      "provenance": [],
      "collapsed_sections": []
    },
    "kernelspec": {
      "name": "python3",
      "display_name": "Python 3"
    },
    "language_info": {
      "name": "python"
    }
  },
  "cells": [
    {
      "cell_type": "markdown",
      "metadata": {
        "id": "ZwuMy-uRpiSs"
      },
      "source": [
        "import the dependecies"
      ]
    },
    {
      "cell_type": "code",
      "metadata": {
        "id": "KPmcPYDRpoI1"
      },
      "source": [
        "import pandas as pd\n",
        "import numpy as np\n",
        "import matplotlib.pyplot as plt\n",
        "import math\n",
        "import random\n",
        "from IPython import display\n",
        "from scipy.signal import savgol_filter\n",
        "from google.colab import drive"
      ],
      "execution_count": null,
      "outputs": []
    },
    {
      "cell_type": "code",
      "metadata": {
        "colab": {
          "base_uri": "https://localhost:8080/",
          "height": 204
        },
        "id": "0SbdO6USr1BE",
        "outputId": "8932c795-653f-4303-d25a-3eeca0f07063"
      },
      "source": [
        "\n",
        "df = pd.read_csv('/content/sample_data/data.csv')\n",
        "df.head()"
      ],
      "execution_count": null,
      "outputs": [
        {
          "output_type": "execute_result",
          "data": {
            "text/html": [
              "<div>\n",
              "<style scoped>\n",
              "    .dataframe tbody tr th:only-of-type {\n",
              "        vertical-align: middle;\n",
              "    }\n",
              "\n",
              "    .dataframe tbody tr th {\n",
              "        vertical-align: top;\n",
              "    }\n",
              "\n",
              "    .dataframe thead th {\n",
              "        text-align: right;\n",
              "    }\n",
              "</style>\n",
              "<table border=\"1\" class=\"dataframe\">\n",
              "  <thead>\n",
              "    <tr style=\"text-align: right;\">\n",
              "      <th></th>\n",
              "      <th>x1</th>\n",
              "      <th>x2</th>\n",
              "      <th>y</th>\n",
              "    </tr>\n",
              "  </thead>\n",
              "  <tbody>\n",
              "    <tr>\n",
              "      <th>0</th>\n",
              "      <td>100</td>\n",
              "      <td>47</td>\n",
              "      <td>0</td>\n",
              "    </tr>\n",
              "    <tr>\n",
              "      <th>1</th>\n",
              "      <td>59</td>\n",
              "      <td>71</td>\n",
              "      <td>1</td>\n",
              "    </tr>\n",
              "    <tr>\n",
              "      <th>2</th>\n",
              "      <td>49</td>\n",
              "      <td>44</td>\n",
              "      <td>0</td>\n",
              "    </tr>\n",
              "    <tr>\n",
              "      <th>3</th>\n",
              "      <td>21</td>\n",
              "      <td>68</td>\n",
              "      <td>1</td>\n",
              "    </tr>\n",
              "    <tr>\n",
              "      <th>4</th>\n",
              "      <td>78</td>\n",
              "      <td>67</td>\n",
              "      <td>0</td>\n",
              "    </tr>\n",
              "  </tbody>\n",
              "</table>\n",
              "</div>"
            ],
            "text/plain": [
              "    x1  x2  y\n",
              "0  100  47  0\n",
              "1   59  71  1\n",
              "2   49  44  0\n",
              "3   21  68  1\n",
              "4   78  67  0"
            ]
          },
          "metadata": {},
          "execution_count": 48
        }
      ]
    },
    {
      "cell_type": "code",
      "metadata": {
        "colab": {
          "base_uri": "https://localhost:8080/",
          "height": 265
        },
        "id": "n2yG8n174Ke9",
        "outputId": "88dcfe97-75f9-4b29-a87f-fb759ec0b5b8"
      },
      "source": [
        "\n",
        "x1 = df[\"x1\"].values.tolist()\n",
        "x2 = df[\"x2\"].values.tolist()\n",
        "y = df[\"y\"].values.tolist()\n",
        "\n",
        "for i in range(len(y)):\n",
        "    if y[i] == 0:\n",
        "        plt.plot(x1[i], x2[i], \"r*\")\n",
        "    else:\n",
        "        plt.plot(x1[i], x2[i], \"g*\")"
      ],
      "execution_count": null,
      "outputs": [
        {
          "output_type": "display_data",
          "data": {
            "image/png": "[encoded data removed]",
            "text/plain": [
              "<Figure size 432x288 with 1 Axes>"
            ]
          },
          "metadata": {
            "needs_background": "light"
          }
        }
      ]
    },
    {
      "cell_type": "code",
      "metadata": {
        "id": "PtmVsstX9jvy"
      },
      "source": [
        "W = [random.random(), random.random()]\n",
        "b = random.random()\n",
        "\n",
        "lr = 0.1\n",
        "theta=0.5\n",
        "\n",
        "epoch = 0\n",
        "count = 0\n",
        "\n",
        "\n",
        "loss = []"
      ],
      "execution_count": null,
      "outputs": []
    },
    {
      "cell_type": "code",
      "metadata": {
        "id": "MhmrgpZB9uQy"
      },
      "source": [
        "while count < len(x1):\n",
        "\n",
        "    total_error = 0\n",
        "    for i in range(len(x1)):\n",
        "        weighted_sum = W[0]*x1[i] + W[1]*x2[i] + b\n",
        "        pred = 0\n",
        "        if weighted_sum > theta:\n",
        "          pred = 1\n",
        "\n",
        "        error = y[i] - pred\n",
        "        if error != 0:\n",
        "            count = 0\n",
        "            total_error += math.sqrt(error**2)\n",
        "                \n",
        "            W[0] += lr * error * x1[i]\n",
        "            W[1] += lr * error * x2[i]\n",
        "            b    += lr * error\n",
        "        else:\n",
        "            count += 1\n",
        "\n",
        "    loss.append(1/len(x1)*total_error)\n",
        "\n",
        "    plt.figure(figsize=(20,5))\n",
        "    #loss.append([epoch, total_error])\n",
        "    display.clear_output(wait= True)\n",
        "    plt.subplot(1,2,1)\n",
        "\n",
        "    for i in range(len(y)):\n",
        "        if y[i] == 0:\n",
        "            plt.plot(x1[i], x2[i], \"r*\")\n",
        "        else:\n",
        "            plt.plot(x1[i], x2[i], \"g*\")\n",
        "\n",
        "        plt.xlim([-10, 110])\n",
        "        plt.ylim([-10, 110])\n",
        "\n",
        "        xintr = (theta-b)/W[0]\n",
        "        yintr = (theta-b/W[1])\n",
        "\n",
        "        slope = -yintr/xintr\n",
        "        xx = plt.xlim()\n",
        "          #  print(xx)\n",
        "\n",
        "        yeq = []\n",
        "        for x in xx:\n",
        "            yeq.append(slope+x+yintr)\n",
        "        plt.plot(xx,yeq, \"b-\")\n",
        "\n",
        "    plt.title(f\"Epoch: {epoch} Loss: {total_error}\")\n",
        "\n",
        "    plt.subplot(1,2,2)\n",
        "    plt.plot(loss, alpha=0.3)\n",
        "    if epoch > 20:\n",
        "        yhat = savgol_filter(loss, 21, 3)\n",
        "        plt.plot(yhat, 'r--', lw=3)\n",
        "\n",
        "    plt.show()\n",
        "\n",
        "    print(f\"Epoch: {epoch} Loss: {loss[-1]}\")\n",
        "    epoch +=1"
      ],
      "execution_count": null,
      "outputs": []
    }
  ]
}